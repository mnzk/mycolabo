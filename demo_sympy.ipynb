{
  "nbformat": 4,
  "nbformat_minor": 0,
  "metadata": {
    "colab": {
      "name": "demo_sympy.ipynb",
      "provenance": [],
      "collapsed_sections": [],
      "authorship_tag": "ABX9TyNk5u+wjUsA78oXXo6yNC4e",
      "include_colab_link": true
    },
    "kernelspec": {
      "name": "python3",
      "display_name": "Python 3"
    },
    "accelerator": "GPU"
  },
  "cells": [
    {
      "cell_type": "markdown",
      "metadata": {
        "id": "view-in-github",
        "colab_type": "text"
      },
      "source": [
        "<a href=\"https://colab.research.google.com/github/mnzk/mycolabo/blob/master/demo_sympy.ipynb\" target=\"_parent\"><img src=\"https://colab.research.google.com/assets/colab-badge.svg\" alt=\"Open In Colab\"/></a>"
      ]
    },
    {
      "cell_type": "code",
      "metadata": {
        "id": "AmM1uUF4F6kF",
        "colab_type": "code",
        "colab": {}
      },
      "source": [
        "import sympy\n",
        "from google.colab.output._publish import javascript\n",
        "from IPython.display import Math\n",
        "javascript(url=\"https://cdnjs.cloudflare.com/ajax/libs/mathjax/2.7.3/latest.js?config=default\")\n",
        "\n",
        "def disp(s):\n",
        "    display(Math(sympy.latex(s)))\n",
        "\n",
        "from sympy import Symbol,symbols, Matrix\n",
        "\n",
        "def sec01():\n",
        "    a,b,x = symbols(\"a b x\")\n",
        "    z = a * x + b\n",
        "    disp(z)\n",
        "    A = Matrix([122, 127, 101])\n",
        "    B = Matrix([144, 138, 116])\n",
        "    Z = A * x + B\n",
        "    disp(Z)\n",
        "\n",
        "    z = sum(Z) - 600\n",
        "    disp(z)\n",
        "    disp([k*60.0 for k in sympy.solve(z)][0])\n",
        "\n",
        "sec01()\n"
      ],
      "execution_count": 0,
      "outputs": []
    }
  ]
}