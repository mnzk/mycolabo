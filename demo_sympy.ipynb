{
  "nbformat": 4,
  "nbformat_minor": 0,
  "metadata": {
    "colab": {
      "name": "demo_sympy.ipynb",
      "provenance": [],
      "private_outputs": true,
      "collapsed_sections": [],
      "authorship_tag": "ABX9TyOJF7FKD5R9CK7xMFJ5ubxq",
      "include_colab_link": true
    },
    "kernelspec": {
      "name": "python3",
      "display_name": "Python 3"
    }
  },
  "cells": [
    {
      "cell_type": "markdown",
      "metadata": {
        "id": "view-in-github",
        "colab_type": "text"
      },
      "source": [
        "<a href=\"https://colab.research.google.com/github/mnzk/mycolabo/blob/master/demo_sympy.ipynb\" target=\"_parent\"><img src=\"https://colab.research.google.com/assets/colab-badge.svg\" alt=\"Open In Colab\"/></a>"
      ]
    },
    {
      "cell_type": "code",
      "metadata": {
        "id": "AmM1uUF4F6kF",
        "colab_type": "code",
        "colab": {}
      },
      "source": [
        "from google.colab.output._publish import javascript\n",
        "javascript(url=\"https://cdnjs.cloudflare.com/ajax/libs/mathjax/2.7.3/latest.js?config=default\")\n",
        "\n",
        "from IPython.display import Math\n",
        "display(Math(r'f_n(x)=\\frac{1}{x^n}'))\n",
        "\n",
        "\n",
        "from sympy import Symbol,symbols\n",
        "\n",
        "def sec01():\n",
        "    a,b,x = symbols(\"a b x\")\n",
        "    z = a-b/x\n",
        "    display(z)\n",
        "\n",
        "sec01()\n"
      ],
      "execution_count": 0,
      "outputs": []
    }
  ]
}