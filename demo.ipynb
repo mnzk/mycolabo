{
  "nbformat": 4,
  "nbformat_minor": 0,
  "metadata": {
    "colab": {
      "name": "demo.ipynb",
      "provenance": [],
      "collapsed_sections": [],
      "authorship_tag": "ABX9TyMmcg/uzZjFyhwOUgKT8s3K",
      "include_colab_link": true
    },
    "kernelspec": {
      "name": "python3",
      "display_name": "Python 3"
    }
  },
  "cells": [
    {
      "cell_type": "markdown",
      "metadata": {
        "id": "view-in-github",
        "colab_type": "text"
      },
      "source": [
        "<a href=\"https://colab.research.google.com/github/mnzk/mycolabo/blob/master/demo.ipynb\" target=\"_parent\"><img src=\"https://colab.research.google.com/assets/colab-badge.svg\" alt=\"Open In Colab\"/></a>"
      ]
    },
    {
      "cell_type": "code",
      "metadata": {
        "id": "3-D6rful8UlU",
        "colab_type": "code",
        "colab": {
          "base_uri": "https://localhost:8080/",
          "height": 34
        },
        "outputId": "7a5c29d5-58ec-4c65-df15-ec69785b43c1"
      },
      "source": [
        "%tensorflow_version 2.x"
      ],
      "execution_count": 1,
      "outputs": [
        {
          "output_type": "stream",
          "text": [
            "TensorFlow 2.x selected.\n"
          ],
          "name": "stdout"
        }
      ]
    },
    {
      "cell_type": "code",
      "metadata": {
        "id": "1RSAwUUc9vMA",
        "colab_type": "code",
        "colab": {}
      },
      "source": [
        "import pandas_bokeh\n",
        "pandas_bokeh.output_notebook()\n",
        "\n",
        "import pandas as pd\n",
        "import numpy as np\n",
        "\n",
        "#sns.set(style='darkgrid', rc={'figure.facecolor':'white'})\n",
        "\n",
        "#df = pd.DataFrame(np.random.randint(0,100,size=(100, 4)), columns=list('ABCD'))\n",
        "#df.plot_bokeh.line()"
      ],
      "execution_count": 0,
      "outputs": []
    },
    {
      "cell_type": "code",
      "metadata": {
        "id": "0flIZXvnATdK",
        "colab_type": "code",
        "colab": {}
      },
      "source": [
        "np.random.seed(42)\n",
        "df = pd.DataFrame({\"Google\": np.random.randn(1000)+0.2, \n",
        "                   \"Apple\": np.random.randn(1000)+0.17}, \n",
        "                   index=pd.date_range('1/1/2000', periods=1000))\n",
        "df = df.cumsum()\n",
        "df = df + 50\n",
        "#df.plot_bokeh(kind=\"line\")"
      ],
      "execution_count": 0,
      "outputs": []
    },
    {
      "cell_type": "code",
      "metadata": {
        "id": "yhobiDTmFoba",
        "colab_type": "code",
        "colab": {}
      },
      "source": [
        ""
      ],
      "execution_count": 0,
      "outputs": []
    }
  ]
}